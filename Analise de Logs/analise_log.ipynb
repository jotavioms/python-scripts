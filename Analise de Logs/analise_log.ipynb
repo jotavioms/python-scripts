{
 "cells": [
  {
   "cell_type": "markdown",
   "metadata": {},
   "source": [
    "### Análise de logs\n",
    "\n",
    "### Instalação biblioteca Pandas"
   ]
  },
  {
   "cell_type": "code",
   "execution_count": 1,
   "metadata": {},
   "outputs": [
    {
     "name": "stdout",
     "output_type": "stream",
     "text": [
      "Collecting pandas\n",
      "  Using cached pandas-2.2.3-cp313-cp313-win_amd64.whl.metadata (19 kB)\n",
      "Collecting numpy>=1.26.0 (from pandas)\n",
      "  Downloading numpy-2.2.0-cp313-cp313-win_amd64.whl.metadata (60 kB)\n",
      "Requirement already satisfied: python-dateutil>=2.8.2 in c:\\users\\john\\desktop\\cybersec\\arquivos\\compartilhadovb\\projetos\\.venv\\lib\\site-packages (from pandas) (2.9.0.post0)\n",
      "Collecting pytz>=2020.1 (from pandas)\n",
      "  Using cached pytz-2024.2-py2.py3-none-any.whl.metadata (22 kB)\n",
      "Collecting tzdata>=2022.7 (from pandas)\n",
      "  Using cached tzdata-2024.2-py2.py3-none-any.whl.metadata (1.4 kB)\n",
      "Requirement already satisfied: six>=1.5 in c:\\users\\john\\desktop\\cybersec\\arquivos\\compartilhadovb\\projetos\\.venv\\lib\\site-packages (from python-dateutil>=2.8.2->pandas) (1.17.0)\n",
      "Using cached pandas-2.2.3-cp313-cp313-win_amd64.whl (11.5 MB)\n",
      "Downloading numpy-2.2.0-cp313-cp313-win_amd64.whl (12.6 MB)\n",
      "   ---------------------------------------- 0.0/12.6 MB ? eta -:--:--\n",
      "   ---------- ----------------------------- 3.4/12.6 MB 18.8 MB/s eta 0:00:01\n",
      "   ------------------------ --------------- 7.9/12.6 MB 21.1 MB/s eta 0:00:01\n",
      "   ---------------------------------------  12.6/12.6 MB 21.4 MB/s eta 0:00:01\n",
      "   ---------------------------------------- 12.6/12.6 MB 19.9 MB/s eta 0:00:00\n",
      "Using cached pytz-2024.2-py2.py3-none-any.whl (508 kB)\n",
      "Using cached tzdata-2024.2-py2.py3-none-any.whl (346 kB)\n",
      "Installing collected packages: pytz, tzdata, numpy, pandas\n",
      "Successfully installed numpy-2.2.0 pandas-2.2.3 pytz-2024.2 tzdata-2024.2\n"
     ]
    }
   ],
   "source": [
    "!pip install pandas"
   ]
  },
  {
   "cell_type": "code",
   "execution_count": 2,
   "metadata": {},
   "outputs": [],
   "source": [
    "import pandas as pd"
   ]
  },
  {
   "cell_type": "markdown",
   "metadata": {},
   "source": [
    "### Coletar os dados\n",
    "\n",
    "DF = Data frame, veriricar qual operador separa os dados na csv (virgula ou ponto e virgula)"
   ]
  },
  {
   "cell_type": "code",
   "execution_count": 7,
   "metadata": {},
   "outputs": [],
   "source": [
    "df = pd.read_csv('logs_seguranca.csv', sep=';')"
   ]
  },
  {
   "cell_type": "markdown",
   "metadata": {},
   "source": [
    "#### Primeira análise dos dados\n",
    "Verificar se há dados faltantes ou dados duplicados"
   ]
  },
  {
   "cell_type": "code",
   "execution_count": 10,
   "metadata": {},
   "outputs": [
    {
     "data": {
      "text/html": [
       "<div>\n",
       "<style scoped>\n",
       "    .dataframe tbody tr th:only-of-type {\n",
       "        vertical-align: middle;\n",
       "    }\n",
       "\n",
       "    .dataframe tbody tr th {\n",
       "        vertical-align: top;\n",
       "    }\n",
       "\n",
       "    .dataframe thead th {\n",
       "        text-align: right;\n",
       "    }\n",
       "</style>\n",
       "<table border=\"1\" class=\"dataframe\">\n",
       "  <thead>\n",
       "    <tr style=\"text-align: right;\">\n",
       "      <th></th>\n",
       "      <th>timestamp</th>\n",
       "      <th>src_ip</th>\n",
       "      <th>dst_ip</th>\n",
       "      <th>src_port</th>\n",
       "      <th>dst_port</th>\n",
       "      <th>protocol</th>\n",
       "      <th>attack_type</th>\n",
       "      <th>user</th>\n",
       "      <th>status</th>\n",
       "      <th>error_message</th>\n",
       "      <th>geo_location</th>\n",
       "      <th>session_hash</th>\n",
       "    </tr>\n",
       "  </thead>\n",
       "  <tbody>\n",
       "    <tr>\n",
       "      <th>0</th>\n",
       "      <td>2024-09-22T20:16:15</td>\n",
       "      <td>98.117.139.140</td>\n",
       "      <td>163.251.95.68</td>\n",
       "      <td>NaN</td>\n",
       "      <td>NaN</td>\n",
       "      <td>ICMP</td>\n",
       "      <td>Port Scanning</td>\n",
       "      <td>root</td>\n",
       "      <td>Falhou</td>\n",
       "      <td>Invalid Password</td>\n",
       "      <td>São Paulo, Brasil</td>\n",
       "      <td>16991049</td>\n",
       "    </tr>\n",
       "    <tr>\n",
       "      <th>1</th>\n",
       "      <td>2024-03-12T13:33:55</td>\n",
       "      <td>132.95.60.13</td>\n",
       "      <td>82.123.249.140</td>\n",
       "      <td>69.0</td>\n",
       "      <td>161.0</td>\n",
       "      <td>UDP</td>\n",
       "      <td>DDoS</td>\n",
       "      <td>guest</td>\n",
       "      <td>Falhou</td>\n",
       "      <td>Access Denied</td>\n",
       "      <td>Tokyo, Japão</td>\n",
       "      <td>17ec86a</td>\n",
       "    </tr>\n",
       "    <tr>\n",
       "      <th>2</th>\n",
       "      <td>2024-05-20T22:09:25</td>\n",
       "      <td>145.16.29.161</td>\n",
       "      <td>240.202.154.245</td>\n",
       "      <td>68.0</td>\n",
       "      <td>53.0</td>\n",
       "      <td>UDP</td>\n",
       "      <td>Exploração de Vulnerabilidade</td>\n",
       "      <td>root</td>\n",
       "      <td>Sucesso</td>\n",
       "      <td>NaN</td>\n",
       "      <td>New York, USA</td>\n",
       "      <td>1c64a94</td>\n",
       "    </tr>\n",
       "    <tr>\n",
       "      <th>3</th>\n",
       "      <td>2024-01-23T20:04:20</td>\n",
       "      <td>148.80.10.227</td>\n",
       "      <td>127.63.234.153</td>\n",
       "      <td>NaN</td>\n",
       "      <td>NaN</td>\n",
       "      <td>ICMP</td>\n",
       "      <td>Port Scanning</td>\n",
       "      <td>root</td>\n",
       "      <td>Sucesso</td>\n",
       "      <td>NaN</td>\n",
       "      <td>São Paulo, Brasil</td>\n",
       "      <td>21f7d2b</td>\n",
       "    </tr>\n",
       "    <tr>\n",
       "      <th>4</th>\n",
       "      <td>2024-02-18T06:11:12</td>\n",
       "      <td>19.246.254.219</td>\n",
       "      <td>176.70.17.95</td>\n",
       "      <td>67.0</td>\n",
       "      <td>161.0</td>\n",
       "      <td>UDP</td>\n",
       "      <td>Exploração de Vulnerabilidade</td>\n",
       "      <td>admin</td>\n",
       "      <td>Falhou</td>\n",
       "      <td>Rate Limit Exceeded</td>\n",
       "      <td>Berlin, Alemanha</td>\n",
       "      <td>7351e29</td>\n",
       "    </tr>\n",
       "  </tbody>\n",
       "</table>\n",
       "</div>"
      ],
      "text/plain": [
       "             timestamp          src_ip           dst_ip  src_port  dst_port  \\\n",
       "0  2024-09-22T20:16:15  98.117.139.140    163.251.95.68       NaN       NaN   \n",
       "1  2024-03-12T13:33:55    132.95.60.13   82.123.249.140      69.0     161.0   \n",
       "2  2024-05-20T22:09:25   145.16.29.161  240.202.154.245      68.0      53.0   \n",
       "3  2024-01-23T20:04:20   148.80.10.227   127.63.234.153       NaN       NaN   \n",
       "4  2024-02-18T06:11:12  19.246.254.219     176.70.17.95      67.0     161.0   \n",
       "\n",
       "  protocol                    attack_type   user   status  \\\n",
       "0     ICMP                  Port Scanning   root   Falhou   \n",
       "1      UDP                           DDoS  guest   Falhou   \n",
       "2      UDP  Exploração de Vulnerabilidade   root  Sucesso   \n",
       "3     ICMP                  Port Scanning   root  Sucesso   \n",
       "4      UDP  Exploração de Vulnerabilidade  admin   Falhou   \n",
       "\n",
       "         error_message       geo_location session_hash  \n",
       "0     Invalid Password  São Paulo, Brasil     16991049  \n",
       "1        Access Denied       Tokyo, Japão      17ec86a  \n",
       "2                  NaN      New York, USA      1c64a94  \n",
       "3                  NaN  São Paulo, Brasil      21f7d2b  \n",
       "4  Rate Limit Exceeded   Berlin, Alemanha      7351e29  "
      ]
     },
     "execution_count": 10,
     "metadata": {},
     "output_type": "execute_result"
    }
   ],
   "source": [
    "df.head()"
   ]
  },
  {
   "cell_type": "markdown",
   "metadata": {},
   "source": [
    "#### Verificar dados duplicados"
   ]
  },
  {
   "cell_type": "code",
   "execution_count": 11,
   "metadata": {},
   "outputs": [
    {
     "data": {
      "text/plain": [
       "np.int64(0)"
      ]
     },
     "execution_count": 11,
     "metadata": {},
     "output_type": "execute_result"
    }
   ],
   "source": [
    "df.duplicated().sum()"
   ]
  },
  {
   "cell_type": "code",
   "execution_count": 12,
   "metadata": {},
   "outputs": [],
   "source": [
    "df = df.drop_duplicates()"
   ]
  },
  {
   "cell_type": "markdown",
   "metadata": {},
   "source": [
    "#### Verificar dados ausentes\n",
    "Filtrar por registros com filtros"
   ]
  },
  {
   "cell_type": "code",
   "execution_count": 13,
   "metadata": {},
   "outputs": [
    {
     "data": {
      "text/plain": [
       "timestamp          0\n",
       "src_ip             0\n",
       "dst_ip             0\n",
       "src_port         337\n",
       "dst_port         337\n",
       "protocol           0\n",
       "attack_type        0\n",
       "user               0\n",
       "status             0\n",
       "error_message    493\n",
       "geo_location       0\n",
       "session_hash       0\n",
       "dtype: int64"
      ]
     },
     "execution_count": 13,
     "metadata": {},
     "output_type": "execute_result"
    }
   ],
   "source": [
    "df.isna().sum()"
   ]
  },
  {
   "cell_type": "code",
   "execution_count": 14,
   "metadata": {},
   "outputs": [
    {
     "data": {
      "text/html": [
       "<div>\n",
       "<style scoped>\n",
       "    .dataframe tbody tr th:only-of-type {\n",
       "        vertical-align: middle;\n",
       "    }\n",
       "\n",
       "    .dataframe tbody tr th {\n",
       "        vertical-align: top;\n",
       "    }\n",
       "\n",
       "    .dataframe thead th {\n",
       "        text-align: right;\n",
       "    }\n",
       "</style>\n",
       "<table border=\"1\" class=\"dataframe\">\n",
       "  <thead>\n",
       "    <tr style=\"text-align: right;\">\n",
       "      <th></th>\n",
       "      <th>timestamp</th>\n",
       "      <th>src_ip</th>\n",
       "      <th>dst_ip</th>\n",
       "      <th>src_port</th>\n",
       "      <th>dst_port</th>\n",
       "      <th>protocol</th>\n",
       "      <th>attack_type</th>\n",
       "      <th>user</th>\n",
       "      <th>status</th>\n",
       "      <th>error_message</th>\n",
       "      <th>geo_location</th>\n",
       "      <th>session_hash</th>\n",
       "    </tr>\n",
       "  </thead>\n",
       "  <tbody>\n",
       "    <tr>\n",
       "      <th>0</th>\n",
       "      <td>2024-09-22T20:16:15</td>\n",
       "      <td>98.117.139.140</td>\n",
       "      <td>163.251.95.68</td>\n",
       "      <td>NaN</td>\n",
       "      <td>NaN</td>\n",
       "      <td>ICMP</td>\n",
       "      <td>Port Scanning</td>\n",
       "      <td>root</td>\n",
       "      <td>Falhou</td>\n",
       "      <td>Invalid Password</td>\n",
       "      <td>São Paulo, Brasil</td>\n",
       "      <td>16991049</td>\n",
       "    </tr>\n",
       "    <tr>\n",
       "      <th>3</th>\n",
       "      <td>2024-01-23T20:04:20</td>\n",
       "      <td>148.80.10.227</td>\n",
       "      <td>127.63.234.153</td>\n",
       "      <td>NaN</td>\n",
       "      <td>NaN</td>\n",
       "      <td>ICMP</td>\n",
       "      <td>Port Scanning</td>\n",
       "      <td>root</td>\n",
       "      <td>Sucesso</td>\n",
       "      <td>NaN</td>\n",
       "      <td>São Paulo, Brasil</td>\n",
       "      <td>21f7d2b</td>\n",
       "    </tr>\n",
       "    <tr>\n",
       "      <th>10</th>\n",
       "      <td>2024-06-01T10:03:50</td>\n",
       "      <td>176.217.97.70</td>\n",
       "      <td>32.225.248.93</td>\n",
       "      <td>NaN</td>\n",
       "      <td>NaN</td>\n",
       "      <td>ICMP</td>\n",
       "      <td>DDoS</td>\n",
       "      <td>admin</td>\n",
       "      <td>Falhou</td>\n",
       "      <td>Rate Limit Exceeded</td>\n",
       "      <td>Berlin, Alemanha</td>\n",
       "      <td>2286de4</td>\n",
       "    </tr>\n",
       "    <tr>\n",
       "      <th>15</th>\n",
       "      <td>2024-09-02T22:18:19</td>\n",
       "      <td>169.240.88.9</td>\n",
       "      <td>12.5.200.241</td>\n",
       "      <td>NaN</td>\n",
       "      <td>NaN</td>\n",
       "      <td>ICMP</td>\n",
       "      <td>Port Scanning</td>\n",
       "      <td>root</td>\n",
       "      <td>Falhou</td>\n",
       "      <td>Rate Limit Exceeded</td>\n",
       "      <td>Paris, França</td>\n",
       "      <td>b6a8e6</td>\n",
       "    </tr>\n",
       "    <tr>\n",
       "      <th>17</th>\n",
       "      <td>2024-09-16T05:18:00</td>\n",
       "      <td>239.161.51.255</td>\n",
       "      <td>65.127.97.107</td>\n",
       "      <td>NaN</td>\n",
       "      <td>NaN</td>\n",
       "      <td>ICMP</td>\n",
       "      <td>DDoS</td>\n",
       "      <td>root</td>\n",
       "      <td>Falhou</td>\n",
       "      <td>403 Forbidden</td>\n",
       "      <td>New York, USA</td>\n",
       "      <td>19d3d52</td>\n",
       "    </tr>\n",
       "    <tr>\n",
       "      <th>...</th>\n",
       "      <td>...</td>\n",
       "      <td>...</td>\n",
       "      <td>...</td>\n",
       "      <td>...</td>\n",
       "      <td>...</td>\n",
       "      <td>...</td>\n",
       "      <td>...</td>\n",
       "      <td>...</td>\n",
       "      <td>...</td>\n",
       "      <td>...</td>\n",
       "      <td>...</td>\n",
       "      <td>...</td>\n",
       "    </tr>\n",
       "    <tr>\n",
       "      <th>983</th>\n",
       "      <td>2024-03-23T21:35:07</td>\n",
       "      <td>59.189.129.178</td>\n",
       "      <td>46.254.187.255</td>\n",
       "      <td>NaN</td>\n",
       "      <td>NaN</td>\n",
       "      <td>ICMP</td>\n",
       "      <td>DDoS</td>\n",
       "      <td>root</td>\n",
       "      <td>Falhou</td>\n",
       "      <td>Invalid Password</td>\n",
       "      <td>Berlin, Alemanha</td>\n",
       "      <td>1372155f</td>\n",
       "    </tr>\n",
       "    <tr>\n",
       "      <th>984</th>\n",
       "      <td>2024-06-05T06:20:24</td>\n",
       "      <td>8.99.60.196</td>\n",
       "      <td>217.73.17.188</td>\n",
       "      <td>NaN</td>\n",
       "      <td>NaN</td>\n",
       "      <td>ICMP</td>\n",
       "      <td>Port Scanning</td>\n",
       "      <td>admin</td>\n",
       "      <td>Falhou</td>\n",
       "      <td>Invalid Password</td>\n",
       "      <td>New York, USA</td>\n",
       "      <td>2002240a</td>\n",
       "    </tr>\n",
       "    <tr>\n",
       "      <th>989</th>\n",
       "      <td>2024-01-10T04:37:52</td>\n",
       "      <td>94.174.2.50</td>\n",
       "      <td>1.207.1.72</td>\n",
       "      <td>NaN</td>\n",
       "      <td>NaN</td>\n",
       "      <td>ICMP</td>\n",
       "      <td>Port Scanning</td>\n",
       "      <td>root</td>\n",
       "      <td>Sucesso</td>\n",
       "      <td>NaN</td>\n",
       "      <td>São Paulo, Brasil</td>\n",
       "      <td>19fe201e</td>\n",
       "    </tr>\n",
       "    <tr>\n",
       "      <th>990</th>\n",
       "      <td>2024-01-25T01:44:50</td>\n",
       "      <td>95.101.57.131</td>\n",
       "      <td>128.194.74.202</td>\n",
       "      <td>NaN</td>\n",
       "      <td>NaN</td>\n",
       "      <td>ICMP</td>\n",
       "      <td>Port Scanning</td>\n",
       "      <td>root</td>\n",
       "      <td>Falhou</td>\n",
       "      <td>Rate Limit Exceeded</td>\n",
       "      <td>Berlin, Alemanha</td>\n",
       "      <td>f701b90</td>\n",
       "    </tr>\n",
       "    <tr>\n",
       "      <th>992</th>\n",
       "      <td>2024-02-12T03:16:12</td>\n",
       "      <td>207.204.116.127</td>\n",
       "      <td>74.153.163.125</td>\n",
       "      <td>NaN</td>\n",
       "      <td>NaN</td>\n",
       "      <td>ICMP</td>\n",
       "      <td>Port Scanning</td>\n",
       "      <td>guest</td>\n",
       "      <td>Sucesso</td>\n",
       "      <td>NaN</td>\n",
       "      <td>Berlin, Alemanha</td>\n",
       "      <td>a7a822</td>\n",
       "    </tr>\n",
       "  </tbody>\n",
       "</table>\n",
       "<p>337 rows × 12 columns</p>\n",
       "</div>"
      ],
      "text/plain": [
       "               timestamp           src_ip          dst_ip  src_port  dst_port  \\\n",
       "0    2024-09-22T20:16:15   98.117.139.140   163.251.95.68       NaN       NaN   \n",
       "3    2024-01-23T20:04:20    148.80.10.227  127.63.234.153       NaN       NaN   \n",
       "10   2024-06-01T10:03:50    176.217.97.70   32.225.248.93       NaN       NaN   \n",
       "15   2024-09-02T22:18:19     169.240.88.9    12.5.200.241       NaN       NaN   \n",
       "17   2024-09-16T05:18:00   239.161.51.255   65.127.97.107       NaN       NaN   \n",
       "..                   ...              ...             ...       ...       ...   \n",
       "983  2024-03-23T21:35:07   59.189.129.178  46.254.187.255       NaN       NaN   \n",
       "984  2024-06-05T06:20:24      8.99.60.196   217.73.17.188       NaN       NaN   \n",
       "989  2024-01-10T04:37:52      94.174.2.50      1.207.1.72       NaN       NaN   \n",
       "990  2024-01-25T01:44:50    95.101.57.131  128.194.74.202       NaN       NaN   \n",
       "992  2024-02-12T03:16:12  207.204.116.127  74.153.163.125       NaN       NaN   \n",
       "\n",
       "    protocol    attack_type   user   status        error_message  \\\n",
       "0       ICMP  Port Scanning   root   Falhou     Invalid Password   \n",
       "3       ICMP  Port Scanning   root  Sucesso                  NaN   \n",
       "10      ICMP           DDoS  admin   Falhou  Rate Limit Exceeded   \n",
       "15      ICMP  Port Scanning   root   Falhou  Rate Limit Exceeded   \n",
       "17      ICMP           DDoS   root   Falhou        403 Forbidden   \n",
       "..       ...            ...    ...      ...                  ...   \n",
       "983     ICMP           DDoS   root   Falhou     Invalid Password   \n",
       "984     ICMP  Port Scanning  admin   Falhou     Invalid Password   \n",
       "989     ICMP  Port Scanning   root  Sucesso                  NaN   \n",
       "990     ICMP  Port Scanning   root   Falhou  Rate Limit Exceeded   \n",
       "992     ICMP  Port Scanning  guest  Sucesso                  NaN   \n",
       "\n",
       "          geo_location session_hash  \n",
       "0    São Paulo, Brasil     16991049  \n",
       "3    São Paulo, Brasil      21f7d2b  \n",
       "10    Berlin, Alemanha      2286de4  \n",
       "15       Paris, França       b6a8e6  \n",
       "17       New York, USA      19d3d52  \n",
       "..                 ...          ...  \n",
       "983   Berlin, Alemanha     1372155f  \n",
       "984      New York, USA     2002240a  \n",
       "989  São Paulo, Brasil     19fe201e  \n",
       "990   Berlin, Alemanha      f701b90  \n",
       "992   Berlin, Alemanha       a7a822  \n",
       "\n",
       "[337 rows x 12 columns]"
      ]
     },
     "execution_count": 14,
     "metadata": {},
     "output_type": "execute_result"
    }
   ],
   "source": [
    "filtro = df['src_port'].isna()\n",
    "df[filtro]"
   ]
  },
  {
   "cell_type": "code",
   "execution_count": 15,
   "metadata": {},
   "outputs": [
    {
     "data": {
      "text/plain": [
       "src_ip\n",
       "148.80.10.227     4\n",
       "16.182.203.140    1\n",
       "254.253.156.26    1\n",
       "8.99.60.196       1\n",
       "59.189.129.178    1\n",
       "                 ..\n",
       "124.163.25.3      1\n",
       "2.237.128.138     1\n",
       "27.240.190.227    1\n",
       "230.200.28.186    1\n",
       "140.126.247.80    1\n",
       "Name: count, Length: 997, dtype: int64"
      ]
     },
     "execution_count": 15,
     "metadata": {},
     "output_type": "execute_result"
    }
   ],
   "source": [
    "df['src_ip'].value_counts()"
   ]
  },
  {
   "cell_type": "code",
   "execution_count": 18,
   "metadata": {},
   "outputs": [
    {
     "data": {
      "text/plain": [
       "src_ip\n",
       "148.80.10.227     0.4\n",
       "16.182.203.140    0.1\n",
       "254.253.156.26    0.1\n",
       "8.99.60.196       0.1\n",
       "59.189.129.178    0.1\n",
       "                 ... \n",
       "124.163.25.3      0.1\n",
       "2.237.128.138     0.1\n",
       "27.240.190.227    0.1\n",
       "230.200.28.186    0.1\n",
       "140.126.247.80    0.1\n",
       "Name: proportion, Length: 997, dtype: float64"
      ]
     },
     "execution_count": 18,
     "metadata": {},
     "output_type": "execute_result"
    }
   ],
   "source": [
    "df['src_ip'].value_counts(normalize=True) * 100"
   ]
  },
  {
   "cell_type": "code",
   "execution_count": 16,
   "metadata": {},
   "outputs": [
    {
     "data": {
      "text/plain": [
       "(1000, 12)"
      ]
     },
     "execution_count": 16,
     "metadata": {},
     "output_type": "execute_result"
    }
   ],
   "source": [
    "df.shape"
   ]
  },
  {
   "cell_type": "markdown",
   "metadata": {},
   "source": [
    "#### Informações gerais"
   ]
  },
  {
   "cell_type": "code",
   "execution_count": 17,
   "metadata": {},
   "outputs": [
    {
     "name": "stdout",
     "output_type": "stream",
     "text": [
      "<class 'pandas.core.frame.DataFrame'>\n",
      "RangeIndex: 1000 entries, 0 to 999\n",
      "Data columns (total 12 columns):\n",
      " #   Column         Non-Null Count  Dtype  \n",
      "---  ------         --------------  -----  \n",
      " 0   timestamp      1000 non-null   object \n",
      " 1   src_ip         1000 non-null   object \n",
      " 2   dst_ip         1000 non-null   object \n",
      " 3   src_port       663 non-null    float64\n",
      " 4   dst_port       663 non-null    float64\n",
      " 5   protocol       1000 non-null   object \n",
      " 6   attack_type    1000 non-null   object \n",
      " 7   user           1000 non-null   object \n",
      " 8   status         1000 non-null   object \n",
      " 9   error_message  507 non-null    object \n",
      " 10  geo_location   1000 non-null   object \n",
      " 11  session_hash   1000 non-null   object \n",
      "dtypes: float64(2), object(10)\n",
      "memory usage: 93.9+ KB\n"
     ]
    }
   ],
   "source": [
    "df.info()"
   ]
  },
  {
   "cell_type": "markdown",
   "metadata": {},
   "source": [
    "#### Transformação de dados\n",
    "Transformando timestamp (objeto) em data"
   ]
  },
  {
   "cell_type": "code",
   "execution_count": 19,
   "metadata": {},
   "outputs": [],
   "source": [
    "df['timestamp'] = pd.to_datetime(df['timestamp'])"
   ]
  },
  {
   "cell_type": "code",
   "execution_count": 20,
   "metadata": {},
   "outputs": [
    {
     "name": "stdout",
     "output_type": "stream",
     "text": [
      "<class 'pandas.core.frame.DataFrame'>\n",
      "RangeIndex: 1000 entries, 0 to 999\n",
      "Data columns (total 12 columns):\n",
      " #   Column         Non-Null Count  Dtype         \n",
      "---  ------         --------------  -----         \n",
      " 0   timestamp      1000 non-null   datetime64[ns]\n",
      " 1   src_ip         1000 non-null   object        \n",
      " 2   dst_ip         1000 non-null   object        \n",
      " 3   src_port       663 non-null    float64       \n",
      " 4   dst_port       663 non-null    float64       \n",
      " 5   protocol       1000 non-null   object        \n",
      " 6   attack_type    1000 non-null   object        \n",
      " 7   user           1000 non-null   object        \n",
      " 8   status         1000 non-null   object        \n",
      " 9   error_message  507 non-null    object        \n",
      " 10  geo_location   1000 non-null   object        \n",
      " 11  session_hash   1000 non-null   object        \n",
      "dtypes: datetime64[ns](1), float64(2), object(9)\n",
      "memory usage: 93.9+ KB\n"
     ]
    }
   ],
   "source": [
    "df.info()"
   ]
  },
  {
   "cell_type": "markdown",
   "metadata": {},
   "source": [
    "Mostrar numeros de ataque por horas baseado no timestamp"
   ]
  },
  {
   "cell_type": "code",
   "execution_count": 24,
   "metadata": {},
   "outputs": [
    {
     "data": {
      "text/plain": [
       "timestamp\n",
       "23    109\n",
       "22     85\n",
       "21     71\n",
       "16     47\n",
       "7      44\n",
       "4      44\n",
       "6      43\n",
       "2      42\n",
       "19     41\n",
       "20     40\n",
       "0      40\n",
       "3      40\n",
       "10     39\n",
       "1      39\n",
       "5      38\n",
       "8      38\n",
       "17     37\n",
       "15     36\n",
       "12     36\n",
       "9      27\n",
       "18     23\n",
       "14     15\n",
       "13     14\n",
       "11     12\n",
       "Name: count, dtype: int64"
      ]
     },
     "execution_count": 24,
     "metadata": {},
     "output_type": "execute_result"
    }
   ],
   "source": [
    "df['timestamp'].dt.hour.value_counts().sort_values(ascending=False)"
   ]
  },
  {
   "cell_type": "markdown",
   "metadata": {},
   "source": [
    "Mostrar numeros de ataques por mes"
   ]
  },
  {
   "cell_type": "code",
   "execution_count": 25,
   "metadata": {},
   "outputs": [
    {
     "data": {
      "text/plain": [
       "timestamp\n",
       "2     114\n",
       "5     114\n",
       "1     110\n",
       "6     109\n",
       "10    102\n",
       "8      99\n",
       "9      94\n",
       "3      92\n",
       "4      89\n",
       "7      77\n",
       "Name: count, dtype: int64"
      ]
     },
     "execution_count": 25,
     "metadata": {},
     "output_type": "execute_result"
    }
   ],
   "source": [
    "df['timestamp'].dt.month.value_counts().sort_values(ascending=False)"
   ]
  },
  {
   "cell_type": "markdown",
   "metadata": {},
   "source": [
    "Criando nova coluna para categorizar o mes do ataque"
   ]
  },
  {
   "cell_type": "code",
   "execution_count": 26,
   "metadata": {},
   "outputs": [],
   "source": [
    "df['mes_ataque'] = df['timestamp'].dt.month"
   ]
  },
  {
   "cell_type": "code",
   "execution_count": 27,
   "metadata": {},
   "outputs": [
    {
     "data": {
      "text/html": [
       "<div>\n",
       "<style scoped>\n",
       "    .dataframe tbody tr th:only-of-type {\n",
       "        vertical-align: middle;\n",
       "    }\n",
       "\n",
       "    .dataframe tbody tr th {\n",
       "        vertical-align: top;\n",
       "    }\n",
       "\n",
       "    .dataframe thead th {\n",
       "        text-align: right;\n",
       "    }\n",
       "</style>\n",
       "<table border=\"1\" class=\"dataframe\">\n",
       "  <thead>\n",
       "    <tr style=\"text-align: right;\">\n",
       "      <th></th>\n",
       "      <th>timestamp</th>\n",
       "      <th>src_ip</th>\n",
       "      <th>dst_ip</th>\n",
       "      <th>src_port</th>\n",
       "      <th>dst_port</th>\n",
       "      <th>protocol</th>\n",
       "      <th>attack_type</th>\n",
       "      <th>user</th>\n",
       "      <th>status</th>\n",
       "      <th>error_message</th>\n",
       "      <th>geo_location</th>\n",
       "      <th>session_hash</th>\n",
       "      <th>mes_ataque</th>\n",
       "    </tr>\n",
       "  </thead>\n",
       "  <tbody>\n",
       "    <tr>\n",
       "      <th>0</th>\n",
       "      <td>2024-09-22 20:16:15</td>\n",
       "      <td>98.117.139.140</td>\n",
       "      <td>163.251.95.68</td>\n",
       "      <td>NaN</td>\n",
       "      <td>NaN</td>\n",
       "      <td>ICMP</td>\n",
       "      <td>Port Scanning</td>\n",
       "      <td>root</td>\n",
       "      <td>Falhou</td>\n",
       "      <td>Invalid Password</td>\n",
       "      <td>São Paulo, Brasil</td>\n",
       "      <td>16991049</td>\n",
       "      <td>9</td>\n",
       "    </tr>\n",
       "    <tr>\n",
       "      <th>1</th>\n",
       "      <td>2024-03-12 13:33:55</td>\n",
       "      <td>132.95.60.13</td>\n",
       "      <td>82.123.249.140</td>\n",
       "      <td>69.0</td>\n",
       "      <td>161.0</td>\n",
       "      <td>UDP</td>\n",
       "      <td>DDoS</td>\n",
       "      <td>guest</td>\n",
       "      <td>Falhou</td>\n",
       "      <td>Access Denied</td>\n",
       "      <td>Tokyo, Japão</td>\n",
       "      <td>17ec86a</td>\n",
       "      <td>3</td>\n",
       "    </tr>\n",
       "    <tr>\n",
       "      <th>2</th>\n",
       "      <td>2024-05-20 22:09:25</td>\n",
       "      <td>145.16.29.161</td>\n",
       "      <td>240.202.154.245</td>\n",
       "      <td>68.0</td>\n",
       "      <td>53.0</td>\n",
       "      <td>UDP</td>\n",
       "      <td>Exploração de Vulnerabilidade</td>\n",
       "      <td>root</td>\n",
       "      <td>Sucesso</td>\n",
       "      <td>NaN</td>\n",
       "      <td>New York, USA</td>\n",
       "      <td>1c64a94</td>\n",
       "      <td>5</td>\n",
       "    </tr>\n",
       "    <tr>\n",
       "      <th>3</th>\n",
       "      <td>2024-01-23 20:04:20</td>\n",
       "      <td>148.80.10.227</td>\n",
       "      <td>127.63.234.153</td>\n",
       "      <td>NaN</td>\n",
       "      <td>NaN</td>\n",
       "      <td>ICMP</td>\n",
       "      <td>Port Scanning</td>\n",
       "      <td>root</td>\n",
       "      <td>Sucesso</td>\n",
       "      <td>NaN</td>\n",
       "      <td>São Paulo, Brasil</td>\n",
       "      <td>21f7d2b</td>\n",
       "      <td>1</td>\n",
       "    </tr>\n",
       "    <tr>\n",
       "      <th>4</th>\n",
       "      <td>2024-02-18 06:11:12</td>\n",
       "      <td>19.246.254.219</td>\n",
       "      <td>176.70.17.95</td>\n",
       "      <td>67.0</td>\n",
       "      <td>161.0</td>\n",
       "      <td>UDP</td>\n",
       "      <td>Exploração de Vulnerabilidade</td>\n",
       "      <td>admin</td>\n",
       "      <td>Falhou</td>\n",
       "      <td>Rate Limit Exceeded</td>\n",
       "      <td>Berlin, Alemanha</td>\n",
       "      <td>7351e29</td>\n",
       "      <td>2</td>\n",
       "    </tr>\n",
       "  </tbody>\n",
       "</table>\n",
       "</div>"
      ],
      "text/plain": [
       "            timestamp          src_ip           dst_ip  src_port  dst_port  \\\n",
       "0 2024-09-22 20:16:15  98.117.139.140    163.251.95.68       NaN       NaN   \n",
       "1 2024-03-12 13:33:55    132.95.60.13   82.123.249.140      69.0     161.0   \n",
       "2 2024-05-20 22:09:25   145.16.29.161  240.202.154.245      68.0      53.0   \n",
       "3 2024-01-23 20:04:20   148.80.10.227   127.63.234.153       NaN       NaN   \n",
       "4 2024-02-18 06:11:12  19.246.254.219     176.70.17.95      67.0     161.0   \n",
       "\n",
       "  protocol                    attack_type   user   status  \\\n",
       "0     ICMP                  Port Scanning   root   Falhou   \n",
       "1      UDP                           DDoS  guest   Falhou   \n",
       "2      UDP  Exploração de Vulnerabilidade   root  Sucesso   \n",
       "3     ICMP                  Port Scanning   root  Sucesso   \n",
       "4      UDP  Exploração de Vulnerabilidade  admin   Falhou   \n",
       "\n",
       "         error_message       geo_location session_hash  mes_ataque  \n",
       "0     Invalid Password  São Paulo, Brasil     16991049           9  \n",
       "1        Access Denied       Tokyo, Japão      17ec86a           3  \n",
       "2                  NaN      New York, USA      1c64a94           5  \n",
       "3                  NaN  São Paulo, Brasil      21f7d2b           1  \n",
       "4  Rate Limit Exceeded   Berlin, Alemanha      7351e29           2  "
      ]
     },
     "execution_count": 27,
     "metadata": {},
     "output_type": "execute_result"
    }
   ],
   "source": [
    "df.head()"
   ]
  },
  {
   "cell_type": "markdown",
   "metadata": {},
   "source": [
    "Identificando os tipos de ataques"
   ]
  },
  {
   "cell_type": "code",
   "execution_count": 28,
   "metadata": {},
   "outputs": [
    {
     "data": {
      "text/plain": [
       "array(['Port Scanning', 'DDoS', 'Exploração de Vulnerabilidade',\n",
       "       'Brute Force'], dtype=object)"
      ]
     },
     "execution_count": 28,
     "metadata": {},
     "output_type": "execute_result"
    }
   ],
   "source": [
    "df['attack_type'].unique()"
   ]
  },
  {
   "cell_type": "markdown",
   "metadata": {},
   "source": [
    "Ocorrencias nos tipos de ataques"
   ]
  },
  {
   "cell_type": "code",
   "execution_count": 29,
   "metadata": {},
   "outputs": [
    {
     "data": {
      "text/plain": [
       "attack_type\n",
       "DDoS                             328\n",
       "Exploração de Vulnerabilidade    298\n",
       "Brute Force                      194\n",
       "Port Scanning                    180\n",
       "Name: count, dtype: int64"
      ]
     },
     "execution_count": 29,
     "metadata": {},
     "output_type": "execute_result"
    }
   ],
   "source": [
    "df['attack_type'].value_counts()"
   ]
  },
  {
   "cell_type": "markdown",
   "metadata": {},
   "source": [
    "Procentagem de tipos de ataques"
   ]
  },
  {
   "cell_type": "code",
   "execution_count": 30,
   "metadata": {},
   "outputs": [
    {
     "data": {
      "text/plain": [
       "attack_type\n",
       "DDoS                             32.8\n",
       "Exploração de Vulnerabilidade    29.8\n",
       "Brute Force                      19.4\n",
       "Port Scanning                    18.0\n",
       "Name: proportion, dtype: float64"
      ]
     },
     "execution_count": 30,
     "metadata": {},
     "output_type": "execute_result"
    }
   ],
   "source": [
    "df['attack_type'].value_counts(normalize=True) * 100"
   ]
  },
  {
   "cell_type": "code",
   "execution_count": 35,
   "metadata": {},
   "outputs": [
    {
     "data": {
      "text/html": [
       "<div>\n",
       "<style scoped>\n",
       "    .dataframe tbody tr th:only-of-type {\n",
       "        vertical-align: middle;\n",
       "    }\n",
       "\n",
       "    .dataframe tbody tr th {\n",
       "        vertical-align: top;\n",
       "    }\n",
       "\n",
       "    .dataframe thead th {\n",
       "        text-align: right;\n",
       "    }\n",
       "</style>\n",
       "<table border=\"1\" class=\"dataframe\">\n",
       "  <thead>\n",
       "    <tr style=\"text-align: right;\">\n",
       "      <th></th>\n",
       "      <th>timestamp</th>\n",
       "      <th>src_ip</th>\n",
       "      <th>dst_ip</th>\n",
       "      <th>src_port</th>\n",
       "      <th>dst_port</th>\n",
       "      <th>protocol</th>\n",
       "      <th>attack_type</th>\n",
       "      <th>user</th>\n",
       "      <th>status</th>\n",
       "      <th>error_message</th>\n",
       "      <th>session_hash</th>\n",
       "      <th>mes_ataque</th>\n",
       "    </tr>\n",
       "    <tr>\n",
       "      <th>geo_location</th>\n",
       "      <th></th>\n",
       "      <th></th>\n",
       "      <th></th>\n",
       "      <th></th>\n",
       "      <th></th>\n",
       "      <th></th>\n",
       "      <th></th>\n",
       "      <th></th>\n",
       "      <th></th>\n",
       "      <th></th>\n",
       "      <th></th>\n",
       "      <th></th>\n",
       "    </tr>\n",
       "  </thead>\n",
       "  <tbody>\n",
       "    <tr>\n",
       "      <th>Berlin, Alemanha</th>\n",
       "      <td>47</td>\n",
       "      <td>47</td>\n",
       "      <td>47</td>\n",
       "      <td>47</td>\n",
       "      <td>47</td>\n",
       "      <td>47</td>\n",
       "      <td>47</td>\n",
       "      <td>47</td>\n",
       "      <td>47</td>\n",
       "      <td>27</td>\n",
       "      <td>47</td>\n",
       "      <td>47</td>\n",
       "    </tr>\n",
       "    <tr>\n",
       "      <th>New York, USA</th>\n",
       "      <td>38</td>\n",
       "      <td>38</td>\n",
       "      <td>38</td>\n",
       "      <td>38</td>\n",
       "      <td>38</td>\n",
       "      <td>38</td>\n",
       "      <td>38</td>\n",
       "      <td>38</td>\n",
       "      <td>38</td>\n",
       "      <td>15</td>\n",
       "      <td>38</td>\n",
       "      <td>38</td>\n",
       "    </tr>\n",
       "    <tr>\n",
       "      <th>Paris, França</th>\n",
       "      <td>33</td>\n",
       "      <td>33</td>\n",
       "      <td>33</td>\n",
       "      <td>33</td>\n",
       "      <td>33</td>\n",
       "      <td>33</td>\n",
       "      <td>33</td>\n",
       "      <td>33</td>\n",
       "      <td>33</td>\n",
       "      <td>14</td>\n",
       "      <td>33</td>\n",
       "      <td>33</td>\n",
       "    </tr>\n",
       "    <tr>\n",
       "      <th>São Paulo, Brasil</th>\n",
       "      <td>36</td>\n",
       "      <td>36</td>\n",
       "      <td>36</td>\n",
       "      <td>36</td>\n",
       "      <td>36</td>\n",
       "      <td>36</td>\n",
       "      <td>36</td>\n",
       "      <td>36</td>\n",
       "      <td>36</td>\n",
       "      <td>14</td>\n",
       "      <td>36</td>\n",
       "      <td>36</td>\n",
       "    </tr>\n",
       "    <tr>\n",
       "      <th>Tokyo, Japão</th>\n",
       "      <td>40</td>\n",
       "      <td>40</td>\n",
       "      <td>40</td>\n",
       "      <td>40</td>\n",
       "      <td>40</td>\n",
       "      <td>40</td>\n",
       "      <td>40</td>\n",
       "      <td>40</td>\n",
       "      <td>40</td>\n",
       "      <td>20</td>\n",
       "      <td>40</td>\n",
       "      <td>40</td>\n",
       "    </tr>\n",
       "  </tbody>\n",
       "</table>\n",
       "</div>"
      ],
      "text/plain": [
       "                   timestamp  src_ip  dst_ip  src_port  dst_port  protocol  \\\n",
       "geo_location                                                                 \n",
       "Berlin, Alemanha          47      47      47        47        47        47   \n",
       "New York, USA             38      38      38        38        38        38   \n",
       "Paris, França             33      33      33        33        33        33   \n",
       "São Paulo, Brasil         36      36      36        36        36        36   \n",
       "Tokyo, Japão              40      40      40        40        40        40   \n",
       "\n",
       "                   attack_type  user  status  error_message  session_hash  \\\n",
       "geo_location                                                                \n",
       "Berlin, Alemanha            47    47      47             27            47   \n",
       "New York, USA               38    38      38             15            38   \n",
       "Paris, França               33    33      33             14            33   \n",
       "São Paulo, Brasil           36    36      36             14            36   \n",
       "Tokyo, Japão                40    40      40             20            40   \n",
       "\n",
       "                   mes_ataque  \n",
       "geo_location                   \n",
       "Berlin, Alemanha           47  \n",
       "New York, USA              38  \n",
       "Paris, França              33  \n",
       "São Paulo, Brasil          36  \n",
       "Tokyo, Japão               40  "
      ]
     },
     "execution_count": 35,
     "metadata": {},
     "output_type": "execute_result"
    }
   ],
   "source": [
    "filtro = df['attack_type'] == 'Brute Force'\n",
    "df[filtro].groupby('geo_location').count()"
   ]
  },
  {
   "cell_type": "code",
   "execution_count": 36,
   "metadata": {},
   "outputs": [
    {
     "data": {
      "text/plain": [
       "geo_location\n",
       "Berlin, Alemanha     47\n",
       "New York, USA        38\n",
       "Paris, França        33\n",
       "São Paulo, Brasil    36\n",
       "Tokyo, Japão         40\n",
       "Name: geo_location, dtype: int64"
      ]
     },
     "execution_count": 36,
     "metadata": {},
     "output_type": "execute_result"
    }
   ],
   "source": [
    "filtro = df['attack_type'] == 'Brute Force'\n",
    "df[filtro].groupby('geo_location')['geo_location'].count()"
   ]
  },
  {
   "cell_type": "code",
   "execution_count": 38,
   "metadata": {},
   "outputs": [
    {
     "data": {
      "text/plain": [
       "mes_ataque\n",
       "1     28\n",
       "3     25\n",
       "8     23\n",
       "5     23\n",
       "2     21\n",
       "6     18\n",
       "10    16\n",
       "4     15\n",
       "7     13\n",
       "9     12\n",
       "Name: mes_ataque, dtype: int64"
      ]
     },
     "execution_count": 38,
     "metadata": {},
     "output_type": "execute_result"
    }
   ],
   "source": [
    "filtro = df['attack_type'] == 'Brute Force'\n",
    "df[filtro].groupby('mes_ataque')['mes_ataque'].count().sort_values(ascending=False)"
   ]
  },
  {
   "cell_type": "code",
   "execution_count": 39,
   "metadata": {},
   "outputs": [
    {
     "data": {
      "text/plain": [
       "protocol  mes_ataque\n",
       "TCP       1             28\n",
       "          2             21\n",
       "          3             25\n",
       "          4             15\n",
       "          5             23\n",
       "          6             18\n",
       "          7             13\n",
       "          8             23\n",
       "          9             12\n",
       "          10            16\n",
       "Name: mes_ataque, dtype: int64"
      ]
     },
     "execution_count": 39,
     "metadata": {},
     "output_type": "execute_result"
    }
   ],
   "source": [
    "df[filtro].groupby(['protocol','mes_ataque'])['mes_ataque'].count()"
   ]
  },
  {
   "cell_type": "code",
   "execution_count": 40,
   "metadata": {},
   "outputs": [
    {
     "data": {
      "text/plain": [
       "protocol  attack_type\n",
       "TCP       Brute Force    194\n",
       "Name: mes_ataque, dtype: int64"
      ]
     },
     "execution_count": 40,
     "metadata": {},
     "output_type": "execute_result"
    }
   ],
   "source": [
    "df[filtro].groupby(['protocol','attack_type'])['mes_ataque'].count()"
   ]
  },
  {
   "cell_type": "markdown",
   "metadata": {},
   "source": [
    "### Extra\n",
    "#### Analise de gráficos"
   ]
  },
  {
   "cell_type": "code",
   "execution_count": 41,
   "metadata": {},
   "outputs": [
    {
     "name": "stdout",
     "output_type": "stream",
     "text": [
      "Collecting seaborn\n",
      "  Downloading seaborn-0.13.2-py3-none-any.whl.metadata (5.4 kB)\n",
      "Requirement already satisfied: numpy!=1.24.0,>=1.20 in c:\\users\\john\\desktop\\cybersec\\arquivos\\compartilhadovb\\projetos\\.venv\\lib\\site-packages (from seaborn) (2.2.0)\n",
      "Requirement already satisfied: pandas>=1.2 in c:\\users\\john\\desktop\\cybersec\\arquivos\\compartilhadovb\\projetos\\.venv\\lib\\site-packages (from seaborn) (2.2.3)\n",
      "Collecting matplotlib!=3.6.1,>=3.4 (from seaborn)\n",
      "  Downloading matplotlib-3.9.3-cp313-cp313-win_amd64.whl.metadata (11 kB)\n",
      "Collecting contourpy>=1.0.1 (from matplotlib!=3.6.1,>=3.4->seaborn)\n",
      "  Downloading contourpy-1.3.1-cp313-cp313-win_amd64.whl.metadata (5.4 kB)\n",
      "Collecting cycler>=0.10 (from matplotlib!=3.6.1,>=3.4->seaborn)\n",
      "  Downloading cycler-0.12.1-py3-none-any.whl.metadata (3.8 kB)\n",
      "Collecting fonttools>=4.22.0 (from matplotlib!=3.6.1,>=3.4->seaborn)\n",
      "  Downloading fonttools-4.55.3-cp313-cp313-win_amd64.whl.metadata (168 kB)\n",
      "Collecting kiwisolver>=1.3.1 (from matplotlib!=3.6.1,>=3.4->seaborn)\n",
      "  Downloading kiwisolver-1.4.7-cp313-cp313-win_amd64.whl.metadata (6.4 kB)\n",
      "Requirement already satisfied: packaging>=20.0 in c:\\users\\john\\desktop\\cybersec\\arquivos\\compartilhadovb\\projetos\\.venv\\lib\\site-packages (from matplotlib!=3.6.1,>=3.4->seaborn) (24.2)\n",
      "Collecting pillow>=8 (from matplotlib!=3.6.1,>=3.4->seaborn)\n",
      "  Downloading pillow-11.0.0-cp313-cp313-win_amd64.whl.metadata (9.3 kB)\n",
      "Collecting pyparsing>=2.3.1 (from matplotlib!=3.6.1,>=3.4->seaborn)\n",
      "  Downloading pyparsing-3.2.0-py3-none-any.whl.metadata (5.0 kB)\n",
      "Requirement already satisfied: python-dateutil>=2.7 in c:\\users\\john\\desktop\\cybersec\\arquivos\\compartilhadovb\\projetos\\.venv\\lib\\site-packages (from matplotlib!=3.6.1,>=3.4->seaborn) (2.9.0.post0)\n",
      "Requirement already satisfied: pytz>=2020.1 in c:\\users\\john\\desktop\\cybersec\\arquivos\\compartilhadovb\\projetos\\.venv\\lib\\site-packages (from pandas>=1.2->seaborn) (2024.2)\n",
      "Requirement already satisfied: tzdata>=2022.7 in c:\\users\\john\\desktop\\cybersec\\arquivos\\compartilhadovb\\projetos\\.venv\\lib\\site-packages (from pandas>=1.2->seaborn) (2024.2)\n",
      "Requirement already satisfied: six>=1.5 in c:\\users\\john\\desktop\\cybersec\\arquivos\\compartilhadovb\\projetos\\.venv\\lib\\site-packages (from python-dateutil>=2.7->matplotlib!=3.6.1,>=3.4->seaborn) (1.17.0)\n",
      "Downloading seaborn-0.13.2-py3-none-any.whl (294 kB)\n",
      "Downloading matplotlib-3.9.3-cp313-cp313-win_amd64.whl (7.8 MB)\n",
      "   ---------------------------------------- 0.0/7.8 MB ? eta -:--:--\n",
      "   -------------------- ------------------- 3.9/7.8 MB 18.5 MB/s eta 0:00:01\n",
      "   -------------------------------------- - 7.6/7.8 MB 20.0 MB/s eta 0:00:01\n",
      "   ---------------------------------------- 7.8/7.8 MB 14.0 MB/s eta 0:00:00\n",
      "Downloading contourpy-1.3.1-cp313-cp313-win_amd64.whl (220 kB)\n",
      "Downloading cycler-0.12.1-py3-none-any.whl (8.3 kB)\n",
      "Downloading fonttools-4.55.3-cp313-cp313-win_amd64.whl (2.2 MB)\n",
      "   ---------------------------------------- 0.0/2.2 MB ? eta -:--:--\n",
      "   ---------------------------------------- 2.2/2.2 MB 17.1 MB/s eta 0:00:00\n",
      "Downloading kiwisolver-1.4.7-cp313-cp313-win_amd64.whl (55 kB)\n",
      "Downloading pillow-11.0.0-cp313-cp313-win_amd64.whl (2.6 MB)\n",
      "   ---------------------------------------- 0.0/2.6 MB ? eta -:--:--\n",
      "   ---------------------------------------- 2.6/2.6 MB 20.1 MB/s eta 0:00:00\n",
      "Downloading pyparsing-3.2.0-py3-none-any.whl (106 kB)\n",
      "Installing collected packages: pyparsing, pillow, kiwisolver, fonttools, cycler, contourpy, matplotlib, seaborn\n",
      "Successfully installed contourpy-1.3.1 cycler-0.12.1 fonttools-4.55.3 kiwisolver-1.4.7 matplotlib-3.9.3 pillow-11.0.0 pyparsing-3.2.0 seaborn-0.13.2\n"
     ]
    }
   ],
   "source": [
    "!pip install seaborn"
   ]
  },
  {
   "cell_type": "code",
   "execution_count": 45,
   "metadata": {},
   "outputs": [],
   "source": [
    "import seaborn as sns\n",
    "import matplotlib.pyplot as plt"
   ]
  },
  {
   "cell_type": "code",
   "execution_count": null,
   "metadata": {},
   "outputs": [
    {
     "data": {
      "image/png": "[encoded data removed]",
      "text/plain": [
       "<Figure size 1000x600 with 1 Axes>"
      ]
     },
     "metadata": {},
     "output_type": "display_data"
    }
   ],
   "source": [
    "plt.figure(figsize=(10,6))\n",
    "\n",
    "plt.title('Distribuição de ataque por mês')\n",
    "sns.histplot(data=df, x='mes_ataque', bins=12)\n",
    "plt.savefig('histograma')"
   ]
  }
 ],
 "metadata": {
  "kernelspec": {
   "display_name": ".venv",
   "language": "python",
   "name": "python3"
  },
  "language_info": {
   "codemirror_mode": {
    "name": "ipython",
    "version": 3
   },
   "file_extension": ".py",
   "mimetype": "text/x-python",
   "name": "python",
   "nbconvert_exporter": "python",
   "pygments_lexer": "ipython3",
   "version": "3.13.1"
  }
 },
 "nbformat": 4,
 "nbformat_minor": 2
}
