{
 "cells": [
  {
   "cell_type": "code",
   "execution_count": 1,
   "metadata": {},
   "outputs": [],
   "source": [
    "import pandas as pd\n",
    "\n",
    "df = pd.read_csv('logs_seguranca.csv', sep=';')"
   ]
  },
  {
   "cell_type": "code",
   "execution_count": 12,
   "metadata": {},
   "outputs": [
    {
     "data": {
      "text/html": [
       "<div>\n",
       "<style scoped>\n",
       "    .dataframe tbody tr th:only-of-type {\n",
       "        vertical-align: middle;\n",
       "    }\n",
       "\n",
       "    .dataframe tbody tr th {\n",
       "        vertical-align: top;\n",
       "    }\n",
       "\n",
       "    .dataframe thead th {\n",
       "        text-align: right;\n",
       "    }\n",
       "</style>\n",
       "<table border=\"1\" class=\"dataframe\">\n",
       "  <thead>\n",
       "    <tr style=\"text-align: right;\">\n",
       "      <th></th>\n",
       "      <th>timestamp</th>\n",
       "      <th>src_ip</th>\n",
       "      <th>dst_ip</th>\n",
       "      <th>src_port</th>\n",
       "      <th>dst_port</th>\n",
       "      <th>protocol</th>\n",
       "      <th>attack_type</th>\n",
       "      <th>user</th>\n",
       "      <th>status</th>\n",
       "      <th>error_message</th>\n",
       "      <th>geo_location</th>\n",
       "      <th>session_hash</th>\n",
       "    </tr>\n",
       "  </thead>\n",
       "  <tbody>\n",
       "    <tr>\n",
       "      <th>0</th>\n",
       "      <td>2024-09-22 20:16:15</td>\n",
       "      <td>98.117.139.140</td>\n",
       "      <td>163.251.95.68</td>\n",
       "      <td>NaN</td>\n",
       "      <td>NaN</td>\n",
       "      <td>ICMP</td>\n",
       "      <td>Port Scanning</td>\n",
       "      <td>root</td>\n",
       "      <td>Falhou</td>\n",
       "      <td>Invalid Password</td>\n",
       "      <td>São Paulo, Brasil</td>\n",
       "      <td>16991049</td>\n",
       "    </tr>\n",
       "    <tr>\n",
       "      <th>1</th>\n",
       "      <td>2024-03-12 13:33:55</td>\n",
       "      <td>132.95.60.13</td>\n",
       "      <td>82.123.249.140</td>\n",
       "      <td>69.0</td>\n",
       "      <td>161.0</td>\n",
       "      <td>UDP</td>\n",
       "      <td>DDoS</td>\n",
       "      <td>guest</td>\n",
       "      <td>Falhou</td>\n",
       "      <td>Access Denied</td>\n",
       "      <td>Tokyo, Japão</td>\n",
       "      <td>17ec86a</td>\n",
       "    </tr>\n",
       "    <tr>\n",
       "      <th>2</th>\n",
       "      <td>2024-05-20 22:09:25</td>\n",
       "      <td>145.16.29.161</td>\n",
       "      <td>240.202.154.245</td>\n",
       "      <td>68.0</td>\n",
       "      <td>53.0</td>\n",
       "      <td>UDP</td>\n",
       "      <td>Exploração de Vulnerabilidade</td>\n",
       "      <td>root</td>\n",
       "      <td>Sucesso</td>\n",
       "      <td>NaN</td>\n",
       "      <td>New York, USA</td>\n",
       "      <td>1c64a94</td>\n",
       "    </tr>\n",
       "    <tr>\n",
       "      <th>3</th>\n",
       "      <td>2024-01-23 20:04:20</td>\n",
       "      <td>148.80.10.227</td>\n",
       "      <td>127.63.234.153</td>\n",
       "      <td>NaN</td>\n",
       "      <td>NaN</td>\n",
       "      <td>ICMP</td>\n",
       "      <td>Port Scanning</td>\n",
       "      <td>root</td>\n",
       "      <td>Sucesso</td>\n",
       "      <td>NaN</td>\n",
       "      <td>São Paulo, Brasil</td>\n",
       "      <td>21f7d2b</td>\n",
       "    </tr>\n",
       "    <tr>\n",
       "      <th>4</th>\n",
       "      <td>2024-02-18 06:11:12</td>\n",
       "      <td>19.246.254.219</td>\n",
       "      <td>176.70.17.95</td>\n",
       "      <td>67.0</td>\n",
       "      <td>161.0</td>\n",
       "      <td>UDP</td>\n",
       "      <td>Exploração de Vulnerabilidade</td>\n",
       "      <td>admin</td>\n",
       "      <td>Falhou</td>\n",
       "      <td>Rate Limit Exceeded</td>\n",
       "      <td>Berlin, Alemanha</td>\n",
       "      <td>7351e29</td>\n",
       "    </tr>\n",
       "  </tbody>\n",
       "</table>\n",
       "</div>"
      ],
      "text/plain": [
       "            timestamp          src_ip           dst_ip  src_port  dst_port  \\\n",
       "0 2024-09-22 20:16:15  98.117.139.140    163.251.95.68       NaN       NaN   \n",
       "1 2024-03-12 13:33:55    132.95.60.13   82.123.249.140      69.0     161.0   \n",
       "2 2024-05-20 22:09:25   145.16.29.161  240.202.154.245      68.0      53.0   \n",
       "3 2024-01-23 20:04:20   148.80.10.227   127.63.234.153       NaN       NaN   \n",
       "4 2024-02-18 06:11:12  19.246.254.219     176.70.17.95      67.0     161.0   \n",
       "\n",
       "  protocol                    attack_type   user   status  \\\n",
       "0     ICMP                  Port Scanning   root   Falhou   \n",
       "1      UDP                           DDoS  guest   Falhou   \n",
       "2      UDP  Exploração de Vulnerabilidade   root  Sucesso   \n",
       "3     ICMP                  Port Scanning   root  Sucesso   \n",
       "4      UDP  Exploração de Vulnerabilidade  admin   Falhou   \n",
       "\n",
       "         error_message       geo_location session_hash  \n",
       "0     Invalid Password  São Paulo, Brasil     16991049  \n",
       "1        Access Denied       Tokyo, Japão      17ec86a  \n",
       "2                  NaN      New York, USA      1c64a94  \n",
       "3                  NaN  São Paulo, Brasil      21f7d2b  \n",
       "4  Rate Limit Exceeded   Berlin, Alemanha      7351e29  "
      ]
     },
     "execution_count": 12,
     "metadata": {},
     "output_type": "execute_result"
    }
   ],
   "source": [
    "df = df.drop_duplicates()\n",
    "df.head()"
   ]
  },
  {
   "cell_type": "markdown",
   "metadata": {},
   "source": [
    "#### Analise o arquivo de logs de ataques e responda as questões a seguir: \n",
    "#### 1. Qual é o percentual de ataques que falharam em comparação com os que tiveram sucesso?"
   ]
  },
  {
   "cell_type": "code",
   "execution_count": 13,
   "metadata": {},
   "outputs": [
    {
     "data": {
      "text/plain": [
       "status\n",
       "Falhou     507\n",
       "Sucesso    493\n",
       "Name: count, dtype: int64"
      ]
     },
     "execution_count": 13,
     "metadata": {},
     "output_type": "execute_result"
    }
   ],
   "source": [
    "df['status'].value_counts()"
   ]
  },
  {
   "cell_type": "code",
   "execution_count": 14,
   "metadata": {},
   "outputs": [
    {
     "data": {
      "text/plain": [
       "status\n",
       "Falhou     50.7\n",
       "Sucesso    49.3\n",
       "Name: proportion, dtype: float64"
      ]
     },
     "execution_count": 14,
     "metadata": {},
     "output_type": "execute_result"
    }
   ],
   "source": [
    "df['status'].value_counts(normalize=True) * 100"
   ]
  },
  {
   "cell_type": "markdown",
   "metadata": {},
   "source": [
    "#### 2. Quantos registros possuem na base de logs?"
   ]
  },
  {
   "cell_type": "code",
   "execution_count": 15,
   "metadata": {},
   "outputs": [
    {
     "name": "stdout",
     "output_type": "stream",
     "text": [
      "<class 'pandas.core.frame.DataFrame'>\n",
      "RangeIndex: 1000 entries, 0 to 999\n",
      "Data columns (total 12 columns):\n",
      " #   Column         Non-Null Count  Dtype         \n",
      "---  ------         --------------  -----         \n",
      " 0   timestamp      1000 non-null   datetime64[ns]\n",
      " 1   src_ip         1000 non-null   object        \n",
      " 2   dst_ip         1000 non-null   object        \n",
      " 3   src_port       663 non-null    float64       \n",
      " 4   dst_port       663 non-null    float64       \n",
      " 5   protocol       1000 non-null   object        \n",
      " 6   attack_type    1000 non-null   object        \n",
      " 7   user           1000 non-null   object        \n",
      " 8   status         1000 non-null   object        \n",
      " 9   error_message  507 non-null    object        \n",
      " 10  geo_location   1000 non-null   object        \n",
      " 11  session_hash   1000 non-null   object        \n",
      "dtypes: datetime64[ns](1), float64(2), object(9)\n",
      "memory usage: 93.9+ KB\n"
     ]
    }
   ],
   "source": [
    "df.info()"
   ]
  },
  {
   "cell_type": "markdown",
   "metadata": {},
   "source": [
    "#### 3. Com base nos arquivos de log, qual são os 3 horários (em termos de hora do dia) com o maior número de ataques registrados?"
   ]
  },
  {
   "cell_type": "code",
   "execution_count": 16,
   "metadata": {},
   "outputs": [],
   "source": [
    "df['timestamp'] = pd.to_datetime(df['timestamp'])"
   ]
  },
  {
   "cell_type": "code",
   "execution_count": 17,
   "metadata": {},
   "outputs": [
    {
     "data": {
      "text/plain": [
       "timestamp\n",
       "23    109\n",
       "22     85\n",
       "21     71\n",
       "16     47\n",
       "7      44\n",
       "4      44\n",
       "6      43\n",
       "2      42\n",
       "19     41\n",
       "20     40\n",
       "0      40\n",
       "3      40\n",
       "10     39\n",
       "1      39\n",
       "5      38\n",
       "8      38\n",
       "17     37\n",
       "15     36\n",
       "12     36\n",
       "9      27\n",
       "18     23\n",
       "14     15\n",
       "13     14\n",
       "11     12\n",
       "Name: count, dtype: int64"
      ]
     },
     "execution_count": 17,
     "metadata": {},
     "output_type": "execute_result"
    }
   ],
   "source": [
    "df['timestamp'].dt.hour.value_counts().sort_values(ascending=False)"
   ]
  },
  {
   "cell_type": "markdown",
   "metadata": {},
   "source": [
    "#### 4. Entre os ataques classificados como bem-sucedidos, qual foi o tipo de ataque mais frequente?"
   ]
  },
  {
   "cell_type": "code",
   "execution_count": 27,
   "metadata": {},
   "outputs": [
    {
     "data": {
      "text/plain": [
       "attack_type\n",
       "Exploração de Vulnerabilidade    156\n",
       "DDoS                             148\n",
       "Brute Force                      104\n",
       "Port Scanning                     85\n",
       "Name: attack_type, dtype: int64"
      ]
     },
     "execution_count": 27,
     "metadata": {},
     "output_type": "execute_result"
    }
   ],
   "source": [
    "filtro = df['status'] == 'Sucesso'\n",
    "df[filtro].groupby('attack_type')['attack_type'].count().sort_values(ascending=False)"
   ]
  },
  {
   "cell_type": "markdown",
   "metadata": {},
   "source": [
    "#### 5. Qual o Ip (src_ip) que realizou o maior número de ataques?"
   ]
  },
  {
   "cell_type": "code",
   "execution_count": 20,
   "metadata": {},
   "outputs": [
    {
     "data": {
      "text/plain": [
       "src_ip\n",
       "148.80.10.227      4\n",
       "177.250.108.226    1\n",
       "189.153.154.53     1\n",
       "98.117.139.140     1\n",
       "132.95.60.13       1\n",
       "                  ..\n",
       "124.163.25.3       1\n",
       "2.237.128.138      1\n",
       "27.240.190.227     1\n",
       "230.200.28.186     1\n",
       "8.99.60.196        1\n",
       "Name: count, Length: 997, dtype: int64"
      ]
     },
     "execution_count": 20,
     "metadata": {},
     "output_type": "execute_result"
    }
   ],
   "source": [
    "df['src_ip'].value_counts().sort_values(ascending=False)"
   ]
  },
  {
   "cell_type": "markdown",
   "metadata": {},
   "source": [
    "#### 6. Qual foi o tipo de ataque com a maior quantidade de tentativas que resultaram em falha?"
   ]
  },
  {
   "cell_type": "code",
   "execution_count": 28,
   "metadata": {},
   "outputs": [
    {
     "data": {
      "text/plain": [
       "attack_type\n",
       "DDoS                             180\n",
       "Exploração de Vulnerabilidade    142\n",
       "Port Scanning                     95\n",
       "Brute Force                       90\n",
       "Name: attack_type, dtype: int64"
      ]
     },
     "execution_count": 28,
     "metadata": {},
     "output_type": "execute_result"
    }
   ],
   "source": [
    "filtro = df['status'] == 'Falhou'\n",
    "df[filtro].groupby('attack_type')['attack_type'].count().sort_values(ascending=False)"
   ]
  },
  {
   "cell_type": "markdown",
   "metadata": {},
   "source": [
    "#### 7. Qual a localização com o menor número de ataques do tipo Brute Force?"
   ]
  },
  {
   "cell_type": "code",
   "execution_count": 29,
   "metadata": {},
   "outputs": [
    {
     "data": {
      "text/plain": [
       "geo_location\n",
       "Paris, França        33\n",
       "São Paulo, Brasil    36\n",
       "New York, USA        38\n",
       "Tokyo, Japão         40\n",
       "Berlin, Alemanha     47\n",
       "Name: geo_location, dtype: int64"
      ]
     },
     "execution_count": 29,
     "metadata": {},
     "output_type": "execute_result"
    }
   ],
   "source": [
    "filtro = df['attack_type'] == 'Brute Force'\n",
    "df[filtro].groupby('geo_location')['geo_location'].count().sort_values(ascending=True)"
   ]
  },
  {
   "cell_type": "markdown",
   "metadata": {},
   "source": [
    "#### 8. Qual foi o mês com o menor número de ataques registrados nos logs?"
   ]
  },
  {
   "cell_type": "code",
   "execution_count": 25,
   "metadata": {},
   "outputs": [
    {
     "data": {
      "text/plain": [
       "timestamp\n",
       "7      77\n",
       "4      89\n",
       "3      92\n",
       "9      94\n",
       "8      99\n",
       "10    102\n",
       "6     109\n",
       "1     110\n",
       "5     114\n",
       "2     114\n",
       "Name: count, dtype: int64"
      ]
     },
     "execution_count": 25,
     "metadata": {},
     "output_type": "execute_result"
    }
   ],
   "source": [
    "df['timestamp'].dt.month.value_counts().sort_values(ascending=True)"
   ]
  },
  {
   "cell_type": "markdown",
   "metadata": {},
   "source": [
    "#### 9. Qual protocolo foi mais frequentemente utilizado em ataques classificados como bem-sucedidos?"
   ]
  },
  {
   "cell_type": "code",
   "execution_count": 30,
   "metadata": {},
   "outputs": [
    {
     "data": {
      "text/plain": [
       "protocol\n",
       "TCP     190\n",
       "ICMP    153\n",
       "UDP     150\n",
       "Name: protocol, dtype: int64"
      ]
     },
     "execution_count": 30,
     "metadata": {},
     "output_type": "execute_result"
    }
   ],
   "source": [
    "filtro = df['status'] == 'Sucesso'\n",
    "df[filtro].groupby('protocol')['protocol'].count().sort_values(ascending=False)"
   ]
  }
 ],
 "metadata": {
  "kernelspec": {
   "display_name": ".venv",
   "language": "python",
   "name": "python3"
  },
  "language_info": {
   "codemirror_mode": {
    "name": "ipython",
    "version": 3
   },
   "file_extension": ".py",
   "mimetype": "text/x-python",
   "name": "python",
   "nbconvert_exporter": "python",
   "pygments_lexer": "ipython3",
   "version": "3.13.1"
  }
 },
 "nbformat": 4,
 "nbformat_minor": 2
}
